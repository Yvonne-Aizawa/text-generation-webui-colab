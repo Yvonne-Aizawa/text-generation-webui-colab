{
  "cells": [
    {
      "cell_type": "markdown",
      "metadata": {
        "id": "view-in-github"
      },
      "source": [
        "[![Open In Colab](https://colab.research.google.com/assets/colab-badge.svg)](https://colab.research.google.com/github/Yvonne-Aizawa/text-generation-webui-colab/blob/main/koala-13B-GPTQ-4bit-128g.ipynb)"
      ]
    },
    {
      "cell_type": "code",
      "execution_count": null,
      "metadata": {},
      "outputs": [],
      "source": [
        "from google.colab import drive\n",
        "drive.mount('/content/')"
      ]
    },
    {
      "cell_type": "code",
      "execution_count": null,
      "metadata": {
        "id": "VCFOzsQSHbjM"
      },
      "outputs": [],
      "source": [
        "%cd /content\n",
        "!apt-get -y install -qq aria2\n",
        "\n",
        "!git clone -b v1.7 https://github.com/camenduru/text-generation-webui\n",
        "%cd /content/text-generation-webui\n",
        "!pip install -r requirements.txt\n",
        "!pip install -U gradio==3.28.3\n",
        "\n",
        "!mkdir /content/text-generation-webui/repositories\n",
        "%cd /content/text-generation-webui/repositories\n",
        "!git clone -b v1.2 https://github.com/camenduru/GPTQ-for-LLaMa.git\n",
        "%cd GPTQ-for-LLaMa\n",
        "!python setup_cuda.py install\n",
        "\n",
        "!aria2c --console-log-level=error -c -x 16 -s 16 -k 1M https://huggingface.co/4bit/koala-13B-GPTQ-4bit-128g/raw/main/config.json -d /content/text-generation-webui/models/koala-13B-GPTQ-4bit-128g -o config.json\n",
        "!aria2c --console-log-level=error -c -x 16 -s 16 -k 1M https://huggingface.co/4bit/koala-13B-GPTQ-4bit-128g/raw/main/generation_config.json -d /content/text-generation-webui/models/koala-13B-GPTQ-4bit-128g -o generation_config.json\n",
        "!aria2c --console-log-level=error -c -x 16 -s 16 -k 1M https://huggingface.co/4bit/koala-13B-GPTQ-4bit-128g/raw/main/special_tokens_map.json -d /content/text-generation-webui/models/koala-13B-GPTQ-4bit-128g -o special_tokens_map.json\n",
        "!aria2c --console-log-level=error -c -x 16 -s 16 -k 1M https://huggingface.co/4bit/koala-13B-GPTQ-4bit-128g/resolve/main/tokenizer.model -d /content/text-generation-webui/models/koala-13B-GPTQ-4bit-128g -o tokenizer.model\n",
        "!aria2c --console-log-level=error -c -x 16 -s 16 -k 1M https://huggingface.co/4bit/koala-13B-GPTQ-4bit-128g/raw/main/tokenizer_config.json -d /content/text-generation-webui/models/koala-13B-GPTQ-4bit-128g -o tokenizer_config.json\n",
        "!aria2c --console-log-level=error -c -x 16 -s 16 -k 1M https://huggingface.co/4bit/koala-13B-GPTQ-4bit-128g/resolve/main/koala-13B-4bit-128g.safetensors -d /content/text-generation-webui/models/koala-13B-GPTQ-4bit-128g -o koala-13B-4bit-128g.safetensors\n",
        "\n",
        "%cd /content/text-generation-webui\n",
        "!python server.py --share --chat --wbits 4 --groupsize 128 --model_type llama"
      ]
    }
  ],
  "metadata": {
    "accelerator": "GPU",
    "colab": {
      "provenance": []
    },
    "gpuClass": "standard",
    "kernelspec": {
      "display_name": "Python 3",
      "name": "python3"
    },
    "language_info": {
      "name": "python"
    }
  },
  "nbformat": 4,
  "nbformat_minor": 0
}
